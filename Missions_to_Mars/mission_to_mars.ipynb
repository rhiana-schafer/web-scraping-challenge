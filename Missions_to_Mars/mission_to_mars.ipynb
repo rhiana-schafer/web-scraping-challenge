{
 "cells": [
  {
   "cell_type": "markdown",
   "id": "b5218c99",
   "metadata": {},
   "source": [
    "## Dependencies:\n",
    "#BeautifulSoup, Pandas, and Requests/Splinter."
   ]
  },
  {
   "cell_type": "code",
   "execution_count": null,
   "id": "3b4d18ad",
   "metadata": {},
   "outputs": [],
   "source": [
    "from bs4 import BeautifulSoup as bs\n",
    "import pandas as pd\n",
    "import requests\n",
    "from splinter import Browser\n",
    "from webdriver_manager.chrome import ChromeDriverManager\n",
    "#setup splinter\n",
    "executable_path = {'executable_path': ChromeDriverManager().install()}\n",
    "browser = Browser('chrome', **executable_path, headless=True)"
   ]
  },
  {
   "cell_type": "code",
   "execution_count": null,
   "id": "8e4bc228",
   "metadata": {},
   "outputs": [],
   "source": [
    "#setting up base urls\n",
    "news_url = 'https://redplanetscience.com/'\n",
    "space_url = 'https://spaceimages-mars.com/'\n",
    "facts_url = 'https://galaxyfacts-mars.com/'\n",
    "hemi_url = 'https://marshemispheres.com/'"
   ]
  },
  {
   "cell_type": "markdown",
   "id": "34114e8a",
   "metadata": {},
   "source": [
    "### NASA Mars News"
   ]
  },
  {
   "cell_type": "code",
   "execution_count": null,
   "id": "21664559",
   "metadata": {},
   "outputs": [],
   "source": [
    "browser.visit(news_url)\n",
    "html=browser.html\n",
    "soup=bs(html, 'html.parser')\n",
    "latest = soup.find_all('div', class_='list_text')[0]\n",
    "news_title=latest.find('div', class_='content_title').text\n",
    "news_p=latest.find('div', class_='article_teaser_body').text"
   ]
  },
  {
   "cell_type": "markdown",
   "id": "87b57263",
   "metadata": {},
   "source": [
    "### JPL Mars Space Images—Featured Image"
   ]
  },
  {
   "cell_type": "code",
   "execution_count": null,
   "id": "687da670",
   "metadata": {},
   "outputs": [],
   "source": [
    "browser.visit(space_url)\n",
    "html = browser.html\n",
    "soup = bs(html, 'html.parser')\n",
    "image_area = soup.find_all('div', class_='floating_text_area')[0]\n",
    "featured_image_url=space_url+image_area.a['href']"
   ]
  },
  {
   "cell_type": "markdown",
   "id": "5d6f7c5f",
   "metadata": {},
   "source": [
    "### Mars Facts"
   ]
  },
  {
   "cell_type": "code",
   "execution_count": null,
   "id": "13825929",
   "metadata": {},
   "outputs": [],
   "source": [
    "df=pd.read_html(facts_url, header=0,index_col=0)[0]\n",
    "html_table = df.to_html()\n",
    "html_table = html_table.replace('\\n', '')"
   ]
  },
  {
   "cell_type": "markdown",
   "id": "ea93d1fe",
   "metadata": {},
   "source": [
    "### Mars Hemispheres"
   ]
  },
  {
   "cell_type": "code",
   "execution_count": null,
   "id": "87cdbab4",
   "metadata": {},
   "outputs": [],
   "source": [
    "browser.visit(hemi_url)\n",
    "html = browser.html\n",
    "soup = bs(html, 'html.parser')\n",
    "article_list = soup.find_all('div', class_='item')\n",
    "hemisphere_image_urls = []\n",
    "for article in article_list:\n",
    "    hemi = {}\n",
    "    hemi['title'] = article.h3.text.replace(' Enhanced','') \n",
    "    hemi['img_url'] = hemi_url+article.img['src']\n",
    "    hemisphere_image_urls.append(hemi)\n",
    "browser.quit()"
   ]
  }
 ],
 "metadata": {
  "kernelspec": {
   "display_name": "Python [conda env:PythonData38] *",
   "language": "python",
   "name": "conda-env-PythonData38-py"
  },
  "language_info": {
   "codemirror_mode": {
    "name": "ipython",
    "version": 3
   },
   "file_extension": ".py",
   "mimetype": "text/x-python",
   "name": "python",
   "nbconvert_exporter": "python",
   "pygments_lexer": "ipython3",
   "version": "3.8.12"
  }
 },
 "nbformat": 4,
 "nbformat_minor": 5
}
